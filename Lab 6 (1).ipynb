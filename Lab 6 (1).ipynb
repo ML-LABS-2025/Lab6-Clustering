{
 "cells": [
  {
   "cell_type": "markdown",
   "id": "3b8257ca-105e-4ce0-a731-d98b60d6cf87",
   "metadata": {},
   "source": [
    "# Lab 5 - K-Means\n",
    "\n",
    "This lab will guide you through the implementation of the K-means algorithn from scratch.\n",
    "\n",
    "## Instructions\n",
    "  - Run all the code cells sequentially.\n",
    "  - Put your names and student numbers in the indicated cell in the **exact** indicated format.\n",
    "  - You **cannot** use additional libraries beyond the ones imported for you (primarily NumPy).\n",
    "  - Your answers must be placed in the indicated answer code cells, starting with the comment `# STUDENT ANSWER`.\n",
    "\n",
    "-----\n",
    "\n",
    "## Student Details\n",
    "\n",
    "Fill in your names and student numbers in the fields below.\n",
    "\n",
    "**Note:** `student_names[0]` should correspond to the same student as `student_nos[0]`."
   ]
  },
  {
   "cell_type": "code",
   "execution_count": 1,
   "id": "ad198c7b-d445-469c-bf1b-049cce6c0d39",
   "metadata": {},
   "outputs": [
    {
     "name": "stdout",
     "output_type": "stream",
     "text": [
      "Student details captured.\n"
     ]
    }
   ],
   "source": [
    "# STUDENT DETAILS\n",
    "# The metadata for this cell should be: {\"autograder_id\": \"student_info\"}\n",
    "student_names = [\"Annah Mlimi\"]  # List of strings containing student names\n",
    "student_nos = [\"2558137\"]  # List of strings containing student nos\n",
    "\n",
    "assert len(student_names) == len(student_nos), \"Ensure each student name has a corresponding student number.\"\n",
    "print(\"Student details captured.\")"
   ]
  },
  {
   "cell_type": "markdown",
   "id": "797c2e97-92cd-44a2-8f76-807be9702c5d",
   "metadata": {
    "id": "uz1cX0gALvJ0"
   },
   "source": [
    "-----\n",
    "\n",
    "## Imports\n",
    "\n",
    "You are **not allowed** to import additional libraries to the ones specified below."
   ]
  },
  {
   "cell_type": "code",
   "execution_count": 2,
   "id": "9a87b046-f3b4-4ec4-b91e-3425a8e8a3b8",
   "metadata": {
    "id": "DuunhG1zLvJ2"
   },
   "outputs": [],
   "source": [
    "import numpy as np\n",
    "import matplotlib.pyplot as plt\n",
    "import pandas as pd\n",
    "\n",
    "import seaborn as sns\n",
    "sns.set()"
   ]
  },
  {
   "cell_type": "markdown",
   "id": "e18544d4-b44b-4424-8ec0-48596520f51e",
   "metadata": {},
   "source": [
    "## 1. Load Data"
   ]
  },
  {
   "cell_type": "markdown",
   "id": "54f4a620-38f2-4df9-b736-74bf70e34642",
   "metadata": {},
   "source": [
    "#### Load data to variable `X` and visualise"
   ]
  },
  {
   "cell_type": "code",
   "execution_count": 3,
   "id": "57dacea2-b844-41b8-ba88-a7b28046522c",
   "metadata": {},
   "outputs": [
    {
     "data": {
      "text/plain": [
       "<Axes: >"
      ]
     },
     "execution_count": 3,
     "metadata": {},
     "output_type": "execute_result"
    },
    {
     "data": {
      "image/png": "[encoded data removed]",
      "text/plain": [
       "<Figure size 640x480 with 1 Axes>"
      ]
     },
     "metadata": {},
     "output_type": "display_data"
    }
   ],
   "source": [
    "X = np.load(\"X.npy\")\n",
    "sns.scatterplot(x=X[:,1], y=X[:,0])"
   ]
  },
  {
   "cell_type": "markdown",
   "id": "0b337050-7502-4715-9b69-ae8cb576a34e",
   "metadata": {},
   "source": [
    "## Question 1.1 - Euclidean Distance"
   ]
  },
  {
   "cell_type": "markdown",
   "id": "21277935-e85f-49da-a821-d871a8d6f086",
   "metadata": {},
   "source": [
    "Implement the following function that takes in the `centroid` (a $2 \\times 1$ numpy array) and a particular `datapoint` (a $2 \\times 1$ numpy array). It then returns the computed euclidean distance - as per the lecture notes."
   ]
  },
  {
   "cell_type": "code",
   "execution_count": 14,
   "id": "8fb27fce-f077-416b-9c9c-a373e6da4ae6",
   "metadata": {},
   "outputs": [],
   "source": [
    "# STUDENT ANSWER\n",
    "def eucl_distance(centroid, datapoint):\n",
    "    difference=centroid-datapoint\n",
    "    insideSqrt= difference[0]**2+difference[1]**2\n",
    "    distance = np.sqrt(insideSqrt)\n",
    "    return distance"
   ]
  },
  {
   "cell_type": "markdown",
   "id": "8951b272-c394-4ef4-8b6a-f6b49f7cca26",
   "metadata": {},
   "source": [
    "#### Test Case"
   ]
  },
  {
   "cell_type": "code",
   "execution_count": 15,
   "id": "9f7d625d-4620-4ebf-99dc-a86a19e168af",
   "metadata": {},
   "outputs": [
    {
     "name": "stdout",
     "output_type": "stream",
     "text": [
      "eucl_distance([0 0], [0.8 1. ]) = 1.2806248474865698\n"
     ]
    }
   ],
   "source": [
    "dummy_centroid = np.array([0, 0])\n",
    "dummy_datapoint = np.array([0.8, 1])\n",
    "\n",
    "import math\n",
    "correct_answer = math.dist(dummy_centroid, dummy_datapoint)\n",
    "student_answer = eucl_distance(dummy_centroid, dummy_datapoint)\n",
    "\n",
    "# Check if euclidean distance calc is 'close' to correct answer and within desired tolerance \n",
    "if abs(correct_answer - student_answer) > 0.01:\n",
    "    print(f\"INCORRECT ANSWER: Correct output = {correct_answer}, while eucl_distance gave eucl_distance({dummy_centroid}, {dummy_datapoint}) = {eucl_distance(dummy_centroid, dummy_datapoint)}\")\n",
    "\n",
    "print(f\"eucl_distance({dummy_centroid}, {dummy_datapoint}) = {eucl_distance(dummy_centroid, dummy_datapoint)}\")"
   ]
  },
  {
   "cell_type": "markdown",
   "id": "4a1aeff3-f2c4-4073-abe8-c3314d620afe",
   "metadata": {},
   "source": [
    "## Question 1.2 - K Means Algorithm"
   ]
  },
  {
   "cell_type": "markdown",
   "id": "7aa80490-c570-4a0c-ba48-85a2afb6f1f1",
   "metadata": {},
   "source": [
    "Implement the `k_means` function which takes in `data`, i.e. `X` and `k`. It must perform K-means clustering on this data. It should return `cluster_assignments`, `history`.\n",
    "\n",
    "- `cluster_assignments` is a dataframe denoting the final cluster assignments. It must have the columns `x_0`, `x_1` and `centroid`. `x_0` corresponds to `X[:, 0]`, `x_1` corresponds to `X[:, 1]` and `centroid` is a columns of label denoting which centroid the associated datapoint was allocated to.\n",
    "- `history` is a list containing the cluster assignments for each iteration and will be used for visualisations. Each value in this list should be a pandas dataframe of the same form as `cluster_assignments`.\n",
    "    - Note: `history[0]` should correspond to cluster assignments after the first iteration of K-means\n",
    "\n",
    "Note that your implementation will be marked based off `cluster_assignments` **and** `history`. "
   ]
  },
  {
   "cell_type": "code",
   "execution_count": 6,
   "id": "64a945d5-b655-42ca-befc-0fd4faab6bcf",
   "metadata": {},
   "outputs": [],
   "source": [
    "# STUDENT ANSWER\n",
    "def k_means(data, k):\n",
    "    cluster_assignments = ...\n",
    "    history = []\n",
    "    # TODO\n",
    "     \n",
    "    return cluster_assignments, history"
   ]
  },
  {
   "cell_type": "markdown",
   "id": "b14e1d4b-c7f5-4cb1-b7a1-b1779e4ab167",
   "metadata": {},
   "source": [
    "#### Visualise"
   ]
  },
  {
   "cell_type": "code",
   "execution_count": 7,
   "id": "5930ebf9-fcfa-4ddd-8f8a-e57055f80d89",
   "metadata": {},
   "outputs": [
    {
     "ename": "TypeError",
     "evalue": "'Axes' object is not subscriptable",
     "output_type": "error",
     "traceback": [
      "\u001b[1;31m---------------------------------------------------------------------------\u001b[0m",
      "\u001b[1;31mTypeError\u001b[0m                                 Traceback (most recent call last)",
      "Cell \u001b[1;32mIn[7], line 6\u001b[0m\n\u001b[0;32m      3\u001b[0m n_plots \u001b[38;5;241m=\u001b[39m \u001b[38;5;28mlen\u001b[39m(student_hist) \u001b[38;5;241m+\u001b[39m \u001b[38;5;241m1\u001b[39m\n\u001b[0;32m      4\u001b[0m fig, axs \u001b[38;5;241m=\u001b[39m plt\u001b[38;5;241m.\u001b[39msubplots(n_plots, figsize\u001b[38;5;241m=\u001b[39m(\u001b[38;5;241m7\u001b[39m, \u001b[38;5;241m7\u001b[39m\u001b[38;5;241m*\u001b[39mn_plots))\n\u001b[1;32m----> 6\u001b[0m \u001b[43maxs\u001b[49m\u001b[43m[\u001b[49m\u001b[38;5;241;43m0\u001b[39;49m\u001b[43m]\u001b[49m\u001b[38;5;241m.\u001b[39mset_title(\u001b[38;5;124m\"\u001b[39m\u001b[38;5;124mFinal\u001b[39m\u001b[38;5;124m\"\u001b[39m)\n\u001b[0;32m      7\u001b[0m sns\u001b[38;5;241m.\u001b[39mscatterplot(student_ca, x\u001b[38;5;241m=\u001b[39m\u001b[38;5;124m\"\u001b[39m\u001b[38;5;124mx_1\u001b[39m\u001b[38;5;124m\"\u001b[39m, y\u001b[38;5;241m=\u001b[39m\u001b[38;5;124m\"\u001b[39m\u001b[38;5;124mx_0\u001b[39m\u001b[38;5;124m\"\u001b[39m, hue\u001b[38;5;241m=\u001b[39m\u001b[38;5;124m\"\u001b[39m\u001b[38;5;124mcluster\u001b[39m\u001b[38;5;124m\"\u001b[39m, ax\u001b[38;5;241m=\u001b[39maxs[\u001b[38;5;241m0\u001b[39m])\n\u001b[0;32m      8\u001b[0m \u001b[38;5;28;01mfor\u001b[39;00m i, curr_df \u001b[38;5;129;01min\u001b[39;00m \u001b[38;5;28menumerate\u001b[39m(student_hist):\n",
      "\u001b[1;31mTypeError\u001b[0m: 'Axes' object is not subscriptable"
     ]
    },
    {
     "data": {
      "image/png": "[encoded data removed]",
      "text/plain": [
       "<Figure size 700x700 with 1 Axes>"
      ]
     },
     "metadata": {},
     "output_type": "display_data"
    }
   ],
   "source": [
    "student_ca, student_hist = k_means(X, 4)\n",
    "\n",
    "n_plots = len(student_hist) + 1\n",
    "fig, axs = plt.subplots(n_plots, figsize=(7, 7*n_plots))\n",
    "\n",
    "axs[0].set_title(\"Final\")\n",
    "sns.scatterplot(student_ca, x=\"x_1\", y=\"x_0\", hue=\"cluster\", ax=axs[0])\n",
    "for i, curr_df in enumerate(student_hist):\n",
    "    axs[i+1].set_title(f\"Iteration = {i}\")\n",
    "    sns.scatterplot(curr_df, x=\"x_1\", y=\"x_0\", hue=\"cluster\", ax=axs[i+1])\n"
   ]
  },
  {
   "cell_type": "markdown",
   "id": "1f8d000c-d7e3-4721-a822-39966fe32b3d",
   "metadata": {},
   "source": [
    "## Question 1.3 - Objective Function\n",
    "Implement `objective_function` which returns the sum of squared distances of each point to its assigned mean. "
   ]
  },
  {
   "cell_type": "code",
   "execution_count": null,
   "id": "8ecf70a1-46ea-4b44-ac80-2773d9e60660",
   "metadata": {},
   "outputs": [],
   "source": [
    "def objective_function(cluster_assignments):\n",
    "    objective_value = ...\n",
    "\n",
    "    return objective_value"
   ]
  },
  {
   "cell_type": "markdown",
   "id": "850d7aff-b2e3-48b7-b39f-5845658d4168",
   "metadata": {},
   "source": [
    "#### Evaluate"
   ]
  },
  {
   "cell_type": "code",
   "execution_count": null,
   "id": "bc687ca7-b6e4-4687-88c6-ef15eb1e2bd2",
   "metadata": {},
   "outputs": [],
   "source": [
    "student_ca, student_hist = k_means(X, 4)\n",
    "print(f\"Sum of squared distances for k-means cluster assignment: {objective_function(student_ca)}\")"
   ]
  },
  {
   "cell_type": "markdown",
   "id": "5370a625-7e37-41c2-84d7-36d555df5ffe",
   "metadata": {},
   "source": [
    "## Question 1.4 - Elbow Method for Estimating Best K\n",
    "Run the k-means algorithm on the data `X` for various values of `K` and plot the associated objection function value for each of the final computed assignments. The x-axis should correspond to `K` and the y-axis should correspond to the associated value of the objective function."
   ]
  },
  {
   "cell_type": "code",
   "execution_count": null,
   "id": "94b175f2-b010-4aea-8243-64618c17a7e8",
   "metadata": {},
   "outputs": [],
   "source": [
    "# STUDENT ANSWER"
   ]
  },
  {
   "cell_type": "markdown",
   "id": "62ce5fae-e23d-42a4-bc69-4ab0fc6d992d",
   "metadata": {},
   "source": [
    "Based off your prior answer, according to the elbow method heuristic which is the best K value for this dataset?"
   ]
  },
  {
   "cell_type": "markdown",
   "id": "dfad11bf-675c-480e-bc0e-601cd79407ba",
   "metadata": {},
   "source": [
    "**TODO:** Edit this markdown cell to provide your answer"
   ]
  }
 ],
 "metadata": {
  "kernelspec": {
   "display_name": "Python 3",
   "language": "python",
   "name": "python3"
  },
  "language_info": {
   "codemirror_mode": {
    "name": "ipython",
    "version": 3
   },
   "file_extension": ".py",
   "mimetype": "text/x-python",
   "name": "python",
   "nbconvert_exporter": "python",
   "pygments_lexer": "ipython3",
   "version": "3.11.9"
  }
 },
 "nbformat": 4,
 "nbformat_minor": 5
}
